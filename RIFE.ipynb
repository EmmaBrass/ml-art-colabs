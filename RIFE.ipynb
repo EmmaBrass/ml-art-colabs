{
  "nbformat": 4,
  "nbformat_minor": 0,
  "metadata": {
    "colab": {
      "name": "RIFE.ipynb",
      "private_outputs": true,
      "provenance": [],
      "machine_shape": "hm",
      "authorship_tag": "ABX9TyOWaFaM9XqLdevFiWxwNBH3",
      "include_colab_link": true
    },
    "kernelspec": {
      "name": "python3",
      "display_name": "Python 3"
    },
    "language_info": {
      "name": "python"
    },
    "accelerator": "GPU"
  },
  "cells": [
    {
      "cell_type": "markdown",
      "metadata": {
        "id": "view-in-github",
        "colab_type": "text"
      },
      "source": [
        "<a href=\"https://colab.research.google.com/github/dvschultz/ml-art-colabs/blob/master/RIFE.ipynb\" target=\"_parent\"><img src=\"https://colab.research.google.com/assets/colab-badge.svg\" alt=\"Open In Colab\"/></a>"
      ]
    },
    {
      "cell_type": "code",
      "metadata": {
        "id": "Xo1fWswxl7Az"
      },
      "source": [
        "!git clone https://github.com/hzwer/arXiv2020-RIFE\n",
        "%cd /content/arXiv2020-RIFE/\n",
        "!pip3 install -r requirements.txt"
      ],
      "execution_count": null,
      "outputs": []
    },
    {
      "cell_type": "code",
      "metadata": {
        "id": "p6_72mSZmCAQ"
      },
      "source": [
        "!gdown --id 1xn4R3TQyFhtMXN2pa3lRB8cd4E1zckQe\n",
        "!unzip /content/arXiv2020-RIFE/RIFE_trained_model_v3.1.zip"
      ],
      "execution_count": null,
      "outputs": []
    },
    {
      "cell_type": "code",
      "metadata": {
        "id": "0FLCEDuBmMuB"
      },
      "source": [
        "!python inference_video.py --exp=2 --video=/content/arXiv2020-RIFE/chroma-slide_4X_96fps.mp4"
      ],
      "execution_count": null,
      "outputs": []
    },
    {
      "cell_type": "code",
      "metadata": {
        "id": "lkHC7iNmmeoO"
      },
      "source": [
        ""
      ],
      "execution_count": null,
      "outputs": []
    }
  ]
}