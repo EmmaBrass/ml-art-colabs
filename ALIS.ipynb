{
  "nbformat": 4,
  "nbformat_minor": 0,
  "metadata": {
    "colab": {
      "name": "ALIS.ipynb",
      "private_outputs": true,
      "provenance": [],
      "collapsed_sections": [],
      "machine_shape": "hm",
      "authorship_tag": "ABX9TyO56qXhjVrMbzRTHSDNMOTd",
      "include_colab_link": true
    },
    "kernelspec": {
      "name": "python3",
      "display_name": "Python 3"
    },
    "language_info": {
      "name": "python"
    },
    "accelerator": "GPU"
  },
  "cells": [
    {
      "cell_type": "markdown",
      "metadata": {
        "id": "view-in-github",
        "colab_type": "text"
      },
      "source": [
        "<a href=\"https://colab.research.google.com/github/dvschultz/ml-art-colabs/blob/master/ALIS.ipynb\" target=\"_parent\"><img src=\"https://colab.research.google.com/assets/colab-badge.svg\" alt=\"Open In Colab\"/></a>"
      ]
    },
    {
      "cell_type": "code",
      "metadata": {
        "id": "8ILu6KRPcF_P"
      },
      "source": [
        "!nvidia-smi -L"
      ],
      "execution_count": null,
      "outputs": []
    },
    {
      "cell_type": "code",
      "metadata": {
        "id": "I9vRUbllYIiF"
      },
      "source": [
        "from google.colab import drive\n",
        "drive.mount('/content/drive')"
      ],
      "execution_count": null,
      "outputs": []
    },
    {
      "cell_type": "code",
      "metadata": {
        "id": "I_V1_ZLUcJ6e"
      },
      "source": [
        "import os\n",
        "if os.path.isdir(\"/content/drive/MyDrive/colab-alis/alis/\"):\n",
        "  %cd /content/drive/MyDrive/colab-alis/alis/\n",
        "else:\n",
        "  %cd /content/drive/MyDrive\n",
        "  !mkdir colab-alis\n",
        "  %cd colab-alis\n",
        "  !git clone https://github.com/universome/alis\n",
        "  %cd alis/\n",
        "  !mkdir data\n",
        "\n",
        "!pip install ninja gitpython\n",
        "!pip install hydra-core --upgrade"
      ],
      "execution_count": null,
      "outputs": []
    },
    {
      "cell_type": "markdown",
      "metadata": {
        "id": "vrEA3PN_fufw"
      },
      "source": [
        "\n",
        "*   Upload your dataset to `alis/data`\n",
        "*   Edit `configs/main.yml`\n",
        "\n"
      ]
    },
    {
      "cell_type": "code",
      "metadata": {
        "id": "slQS4cLDcRDe"
      },
      "source": [
        "!python infra/launch_local.py hydra.run.dir=. +experiment_name=ladiescrop-test +dataset=ladiescrop-black num_gpus=1"
      ],
      "execution_count": null,
      "outputs": []
    },
    {
      "cell_type": "code",
      "metadata": {
        "id": "mGn3Xz5niMYr"
      },
      "source": [
        "!mv /content/drive/MyDrive/colab-alis/alis/experiments/ladiescrop-test-083ed4c/00000-ladiescrop-black-mirror-auto1-noaug-resumecustom/network-snapshot-000320.pkl /content/drive/MyDrive/colab-alis/alis/experiments/network-snapshot-000320.pkl"
      ],
      "execution_count": null,
      "outputs": []
    },
    {
      "cell_type": "code",
      "metadata": {
        "id": "dc_qJJoKfq0o"
      },
      "source": [
        "!cp /content/alis/experiments/ladiescrop-test-b696bbb/00000-ladiescrop-black-mirror-auto1-noaug/network-snapshot-000464.pkl /content/drive/MyDrive/network-snapshot-000464.pkl"
      ],
      "execution_count": null,
      "outputs": []
    },
    {
      "cell_type": "code",
      "metadata": {
        "id": "YdEJ2NSiYn9e"
      },
      "source": [
        ""
      ],
      "execution_count": null,
      "outputs": []
    }
  ]
}